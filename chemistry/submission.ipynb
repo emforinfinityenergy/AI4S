{
 "cells": [
  {
   "cell_type": "code",
   "execution_count": null,
   "id": "initial_id",
   "metadata": {
    "collapsed": true
   },
   "outputs": [],
   "source": [
    "import numpy as np\n",
    "from matplotlib import pyplot as plt\n",
    "import pandas as pd\n",
    "import os\n",
    "\n",
    "def kregression(data):\n",
    "    #——编写k的求解程序----#\n",
    "    #---solve k in this function----#\n",
    "    k = 1\n",
    "    return k"
   ]
  },
  {
   "metadata": {},
   "cell_type": "code",
   "outputs": [],
   "execution_count": null,
   "source": [
    "if __name__ == '__main__':\n",
    "    #-------------读取训练集,训练集地址已经设定好，不用修改------------------#\n",
    "    #--------Read the training set, the address of the training set has been set and does not need to be modified------------#\n",
    "    train_path = \"/bohr/train-0ahg/v1/data_train.csv\"\n",
    "    data_train = pd.read_csv(train_path)\n",
    "\n",
    "    #-------------读取测试集，“DATA_PATH”是测试集加密后的环境变量，按照如下方式可以在提交后，系统评分时访问测试集，但是选手无法直接下载---------#\n",
    "    # Read the test set, “DATA_PATH” is the environment variable encrypted for the test set. It can be accessed during system scoring after submission as follows, but the participants cannot directly download it.#\n",
    "    if os.environ.get('DATA_PATH'):\n",
    "        DATA_PATH = os.environ.get(\"DATA_PATH\") + \"/\"\n",
    "    else:\n",
    "        print(\"Baseline运行时，因为无法读取测试集，所以会有此条报错，属于正常现象\")  #Baseline运行时，因为无法读取测试集，所以会有此条报错，属于正常现象\n",
    "        print(\"When baseline is running, this error message will appear because the test set cannot be read, which is a normal phenomenon.\")\n",
    "    test_path = DATA_PATH + \"data_test.csv\"\n",
    "    data_test = pd.read_csv(test_path)\n",
    "    k_train = kregression(data_train)\n",
    "    k_test = kregression(data_test)\n",
    "    k = [k_train,k_test]\n",
    "    print(k_train,k_test)\n",
    "    df_params = pd.DataFrame({'k': k})\n",
    "    # 将参数转换为DataFrame\n",
    "    print(df_params)\n",
    "    # 保存到CSV文件\n",
    "    csv_file_path = 'submission.csv'\n",
    "    df_params.to_csv(csv_file_path, index=False)"
   ],
   "id": "2951d35d81ed602b"
  }
 ],
 "metadata": {
  "kernelspec": {
   "display_name": "Python 3",
   "language": "python",
   "name": "python3"
  },
  "language_info": {
   "codemirror_mode": {
    "name": "ipython",
    "version": 2
   },
   "file_extension": ".py",
   "mimetype": "text/x-python",
   "name": "python",
   "nbconvert_exporter": "python",
   "pygments_lexer": "ipython2",
   "version": "2.7.6"
  }
 },
 "nbformat": 4,
 "nbformat_minor": 5
}
