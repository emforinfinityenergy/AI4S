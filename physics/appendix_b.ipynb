{
 "cells": [
  {
   "cell_type": "code",
   "id": "initial_id",
   "metadata": {
    "collapsed": true,
    "ExecuteTime": {
     "end_time": "2024-12-21T03:29:28.974646Z",
     "start_time": "2024-12-21T03:29:28.790876Z"
    }
   },
   "source": [
    "import torch\n",
    "import torch.nn as nn\n",
    "import torch.optim as optim\n",
    "import numpy as np\n",
    "import matplotlib.pyplot as plt"
   ],
   "outputs": [
    {
     "ename": "ImportError",
     "evalue": "generic_type: type \"_InterpolationType\" is already registered!",
     "output_type": "error",
     "traceback": [
      "\u001B[1;31m---------------------------------------------------------------------------\u001B[0m",
      "\u001B[1;31mImportError\u001B[0m                               Traceback (most recent call last)",
      "Cell \u001B[1;32mIn[22], line 5\u001B[0m\n\u001B[0;32m      3\u001B[0m \u001B[38;5;28;01mimport\u001B[39;00m \u001B[38;5;21;01mtorch\u001B[39;00m\u001B[38;5;21;01m.\u001B[39;00m\u001B[38;5;21;01moptim\u001B[39;00m \u001B[38;5;28;01mas\u001B[39;00m \u001B[38;5;21;01moptim\u001B[39;00m\n\u001B[0;32m      4\u001B[0m \u001B[38;5;66;03m# import numpy as np\u001B[39;00m\n\u001B[1;32m----> 5\u001B[0m \u001B[38;5;28;01mimport\u001B[39;00m \u001B[38;5;21;01mmatplotlib\u001B[39;00m\u001B[38;5;21;01m.\u001B[39;00m\u001B[38;5;21;01mpyplot\u001B[39;00m \u001B[38;5;28;01mas\u001B[39;00m \u001B[38;5;21;01mplt\u001B[39;00m\n",
      "File \u001B[1;32mD:\\PycharmProjects\\AI4S\\.venv\\lib\\site-packages\\matplotlib\\pyplot.py:53\u001B[0m\n\u001B[0;32m     51\u001B[0m \u001B[38;5;28;01mimport\u001B[39;00m \u001B[38;5;21;01mmatplotlib\u001B[39;00m\n\u001B[0;32m     52\u001B[0m \u001B[38;5;28;01mimport\u001B[39;00m \u001B[38;5;21;01mmatplotlib\u001B[39;00m\u001B[38;5;21;01m.\u001B[39;00m\u001B[38;5;21;01mcolorbar\u001B[39;00m\n\u001B[1;32m---> 53\u001B[0m \u001B[38;5;28;01mimport\u001B[39;00m \u001B[38;5;21;01mmatplotlib\u001B[39;00m\u001B[38;5;21;01m.\u001B[39;00m\u001B[38;5;21;01mimage\u001B[39;00m\n\u001B[0;32m     54\u001B[0m \u001B[38;5;28;01mfrom\u001B[39;00m \u001B[38;5;21;01mmatplotlib\u001B[39;00m \u001B[38;5;28;01mimport\u001B[39;00m _api\n\u001B[0;32m     55\u001B[0m \u001B[38;5;28;01mfrom\u001B[39;00m \u001B[38;5;21;01mmatplotlib\u001B[39;00m \u001B[38;5;28;01mimport\u001B[39;00m rcsetup, style\n",
      "File \u001B[1;32mD:\\PycharmProjects\\AI4S\\.venv\\lib\\site-packages\\matplotlib\\image.py:18\u001B[0m\n\u001B[0;32m     16\u001B[0m \u001B[38;5;28;01mfrom\u001B[39;00m \u001B[38;5;21;01mmatplotlib\u001B[39;00m \u001B[38;5;28;01mimport\u001B[39;00m _api, cbook, cm\n\u001B[0;32m     17\u001B[0m \u001B[38;5;66;03m# For clarity, names from _image are given explicitly in this module\u001B[39;00m\n\u001B[1;32m---> 18\u001B[0m \u001B[38;5;28;01mfrom\u001B[39;00m \u001B[38;5;21;01mmatplotlib\u001B[39;00m \u001B[38;5;28;01mimport\u001B[39;00m _image\n\u001B[0;32m     19\u001B[0m \u001B[38;5;66;03m# For user convenience, the names from _image are also imported into\u001B[39;00m\n\u001B[0;32m     20\u001B[0m \u001B[38;5;66;03m# the image namespace\u001B[39;00m\n\u001B[0;32m     21\u001B[0m \u001B[38;5;28;01mfrom\u001B[39;00m \u001B[38;5;21;01mmatplotlib\u001B[39;00m\u001B[38;5;21;01m.\u001B[39;00m\u001B[38;5;21;01m_image\u001B[39;00m \u001B[38;5;28;01mimport\u001B[39;00m \u001B[38;5;241m*\u001B[39m\n",
      "\u001B[1;31mImportError\u001B[0m: generic_type: type \"_InterpolationType\" is already registered!"
     ]
    }
   ],
   "execution_count": 22
  },
  {
   "metadata": {
    "ExecuteTime": {
     "end_time": "2024-12-21T03:26:19.417687Z",
     "start_time": "2024-12-21T03:26:19.408651Z"
    }
   },
   "cell_type": "code",
   "source": [
    "# Define a neural network with a setup of 3 layers, each with 50 nodes. Use the Tanh activation function. Input time t, and output position y.\n",
    "\n",
    "class Net(nn.Module):\n",
    "    def __init__(self):\n",
    "        super(Net, self).__init__()\n",
    "        self.hidden_layer1 = nn.Linear(1, 50)\n",
    "        self.hidden_layer2 = nn.Linear(50, 50)\n",
    "        self.hidden_layer3 = nn.Linear(50, 50)\n",
    "        self.output_layer = nn.Linear(50, 1)\n",
    "\n",
    "    def forward(self, t):\n",
    "        outputs = torch.tanh(self.hidden_layer1(t))\n",
    "        outputs = torch.tanh(self.hidden_layer2(outputs))\n",
    "        outputs = torch.tanh(self.hidden_layer3(outputs))\n",
    "        outputs = self.output_layer(outputs)\n",
    "        return outputs"
   ],
   "id": "7d3d3c5e236c8939",
   "outputs": [],
   "execution_count": 14
  },
  {
   "metadata": {
    "ExecuteTime": {
     "end_time": "2024-12-21T03:26:19.448500Z",
     "start_time": "2024-12-21T03:26:19.433974Z"
    }
   },
   "cell_type": "code",
   "source": [
    "# Define the loss function, which includes physical loss and initial condition loss. The physical loss represents the adherence of motion to a certain physical law, while the initial condition loss represents the initial conditions that the motion of an object must satisfy.\n",
    "# The weights for physical loss and initial condition loss can be adjusted.\n",
    "\n",
    "def PINN_loss(t, net, h, t_end):\n",
    "    g = 9.8\n",
    "    y_pred = net(t)\n",
    "\n",
    "    # calculate dy/dt\n",
    "    dy_dt = torch.autograd.grad(y_pred, t, grad_outputs=torch.ones_like(y_pred),\n",
    "                                create_graph=True)[0]\n",
    "\n",
    "    # calculate d^2y/dt^2\n",
    "    d2y_dt2 = torch.autograd.grad(dy_dt, t, grad_outputs=torch.ones_like(dy_dt),\n",
    "                                  create_graph=True)[0]\n",
    "\n",
    "    physics_loss = torch.mean((d2y_dt2 + g)**2) # pay attention to signs\n",
    "\n",
    "    # initial loss\n",
    "    y0 = net(torch.zeros(1, 1).requires_grad_(True))\n",
    "    v0 = torch.autograd.grad(y_pred, t, grad_outputs=torch.ones_like(y_pred),\n",
    "                             create_graph=True)[0][0]\n",
    "    initial_loss = (y0 - h)**2 + v0**2\n",
    "\n",
    "    # total loss\n",
    "    total_loss = physics_loss + initial_loss\n",
    "\n",
    "    return total_loss"
   ],
   "id": "ecb993ab8f938d2a",
   "outputs": [],
   "execution_count": 15
  },
  {
   "metadata": {
    "ExecuteTime": {
     "end_time": "2024-12-21T03:26:19.479988Z",
     "start_time": "2024-12-21T03:26:19.466469Z"
    }
   },
   "cell_type": "code",
   "source": [
    "# initial conditions\n",
    "\n",
    "h = 100  # initial height\n",
    "t_end = torch.tensor(6.0) # ending time\n",
    "\n",
    "# generate training data\n",
    "t_numpy = np.linspace(0, t_end.item(), 100).reshape(-1, 1)\n",
    "y_numpy = h - 0.5 * 9.8 * t_numpy**2\n",
    "\n",
    "# convert to PyTorch tensors\n",
    "t = torch.tensor(t_numpy).requires_grad_(True)\n",
    "y = torch.tensor(y_numpy)"
   ],
   "id": "7905dd27d6f6c00a",
   "outputs": [],
   "execution_count": 16
  },
  {
   "metadata": {
    "ExecuteTime": {
     "end_time": "2024-12-21T03:26:20.318602Z",
     "start_time": "2024-12-21T03:26:19.496603Z"
    }
   },
   "cell_type": "code",
   "source": [
    "net = Net()\n",
    "optimizer = optim.Adam(net.parameters(), lr=0.001)"
   ],
   "id": "ca533a52d59337b4",
   "outputs": [],
   "execution_count": 17
  },
  {
   "metadata": {
    "ExecuteTime": {
     "end_time": "2024-12-21T03:26:34.594555Z",
     "start_time": "2024-12-21T03:26:20.334820Z"
    }
   },
   "cell_type": "code",
   "source": [
    "epochs = 20000\n",
    "loss_history = []\n",
    "for epoch in range(epochs):\n",
    "    optimizer.zero_grad()\n",
    "\n",
    "    t = torch.linspace(0, t_end.item(), 100).reshape(-1, 1).requires_grad_(True)\n",
    "    total_loss = PINN_loss(t, net, h, t_end)\n",
    "\n",
    "    total_loss.backward()\n",
    "    optimizer.step()\n",
    "    loss_history.append(total_loss.item())\n",
    "    if (epoch + 1) % 1000 == 0:\n",
    "        print(f'Epoch {epoch+1}, Total Loss: {total_loss.item():.4f}')"
   ],
   "id": "a6f3198acb71a544",
   "outputs": [
    {
     "name": "stdout",
     "output_type": "stream",
     "text": [
      "Epoch 1000, Total Loss: 2580.1294\n",
      "Epoch 2000, Total Loss: 405.8194\n",
      "Epoch 3000, Total Loss: 21.2433\n"
     ]
    },
    {
     "ename": "KeyboardInterrupt",
     "evalue": "",
     "output_type": "error",
     "traceback": [
      "\u001B[1;31m---------------------------------------------------------------------------\u001B[0m",
      "\u001B[1;31mKeyboardInterrupt\u001B[0m                         Traceback (most recent call last)",
      "Cell \u001B[1;32mIn[18], line 9\u001B[0m\n\u001B[0;32m      6\u001B[0m t \u001B[38;5;241m=\u001B[39m torch\u001B[38;5;241m.\u001B[39mlinspace(\u001B[38;5;241m0\u001B[39m, t_end\u001B[38;5;241m.\u001B[39mitem(), \u001B[38;5;241m100\u001B[39m)\u001B[38;5;241m.\u001B[39mreshape(\u001B[38;5;241m-\u001B[39m\u001B[38;5;241m1\u001B[39m, \u001B[38;5;241m1\u001B[39m)\u001B[38;5;241m.\u001B[39mrequires_grad_(\u001B[38;5;28;01mTrue\u001B[39;00m)\n\u001B[0;32m      7\u001B[0m total_loss \u001B[38;5;241m=\u001B[39m PINN_loss(t, net, h, t_end)\n\u001B[1;32m----> 9\u001B[0m \u001B[43mtotal_loss\u001B[49m\u001B[38;5;241;43m.\u001B[39;49m\u001B[43mbackward\u001B[49m\u001B[43m(\u001B[49m\u001B[43m)\u001B[49m\n\u001B[0;32m     10\u001B[0m optimizer\u001B[38;5;241m.\u001B[39mstep()\n\u001B[0;32m     11\u001B[0m loss_history\u001B[38;5;241m.\u001B[39mappend(total_loss\u001B[38;5;241m.\u001B[39mitem())\n",
      "File \u001B[1;32mD:\\PycharmProjects\\AI4S\\.venv\\lib\\site-packages\\torch\\_tensor.py:581\u001B[0m, in \u001B[0;36mTensor.backward\u001B[1;34m(self, gradient, retain_graph, create_graph, inputs)\u001B[0m\n\u001B[0;32m    571\u001B[0m \u001B[38;5;28;01mif\u001B[39;00m has_torch_function_unary(\u001B[38;5;28mself\u001B[39m):\n\u001B[0;32m    572\u001B[0m     \u001B[38;5;28;01mreturn\u001B[39;00m handle_torch_function(\n\u001B[0;32m    573\u001B[0m         Tensor\u001B[38;5;241m.\u001B[39mbackward,\n\u001B[0;32m    574\u001B[0m         (\u001B[38;5;28mself\u001B[39m,),\n\u001B[1;32m   (...)\u001B[0m\n\u001B[0;32m    579\u001B[0m         inputs\u001B[38;5;241m=\u001B[39minputs,\n\u001B[0;32m    580\u001B[0m     )\n\u001B[1;32m--> 581\u001B[0m \u001B[43mtorch\u001B[49m\u001B[38;5;241;43m.\u001B[39;49m\u001B[43mautograd\u001B[49m\u001B[38;5;241;43m.\u001B[39;49m\u001B[43mbackward\u001B[49m\u001B[43m(\u001B[49m\n\u001B[0;32m    582\u001B[0m \u001B[43m    \u001B[49m\u001B[38;5;28;43mself\u001B[39;49m\u001B[43m,\u001B[49m\u001B[43m \u001B[49m\u001B[43mgradient\u001B[49m\u001B[43m,\u001B[49m\u001B[43m \u001B[49m\u001B[43mretain_graph\u001B[49m\u001B[43m,\u001B[49m\u001B[43m \u001B[49m\u001B[43mcreate_graph\u001B[49m\u001B[43m,\u001B[49m\u001B[43m \u001B[49m\u001B[43minputs\u001B[49m\u001B[38;5;241;43m=\u001B[39;49m\u001B[43minputs\u001B[49m\n\u001B[0;32m    583\u001B[0m \u001B[43m\u001B[49m\u001B[43m)\u001B[49m\n",
      "File \u001B[1;32mD:\\PycharmProjects\\AI4S\\.venv\\lib\\site-packages\\torch\\autograd\\__init__.py:347\u001B[0m, in \u001B[0;36mbackward\u001B[1;34m(tensors, grad_tensors, retain_graph, create_graph, grad_variables, inputs)\u001B[0m\n\u001B[0;32m    342\u001B[0m     retain_graph \u001B[38;5;241m=\u001B[39m create_graph\n\u001B[0;32m    344\u001B[0m \u001B[38;5;66;03m# The reason we repeat the same comment below is that\u001B[39;00m\n\u001B[0;32m    345\u001B[0m \u001B[38;5;66;03m# some Python versions print out the first line of a multi-line function\u001B[39;00m\n\u001B[0;32m    346\u001B[0m \u001B[38;5;66;03m# calls in the traceback and some print out the last line\u001B[39;00m\n\u001B[1;32m--> 347\u001B[0m \u001B[43m_engine_run_backward\u001B[49m\u001B[43m(\u001B[49m\n\u001B[0;32m    348\u001B[0m \u001B[43m    \u001B[49m\u001B[43mtensors\u001B[49m\u001B[43m,\u001B[49m\n\u001B[0;32m    349\u001B[0m \u001B[43m    \u001B[49m\u001B[43mgrad_tensors_\u001B[49m\u001B[43m,\u001B[49m\n\u001B[0;32m    350\u001B[0m \u001B[43m    \u001B[49m\u001B[43mretain_graph\u001B[49m\u001B[43m,\u001B[49m\n\u001B[0;32m    351\u001B[0m \u001B[43m    \u001B[49m\u001B[43mcreate_graph\u001B[49m\u001B[43m,\u001B[49m\n\u001B[0;32m    352\u001B[0m \u001B[43m    \u001B[49m\u001B[43minputs\u001B[49m\u001B[43m,\u001B[49m\n\u001B[0;32m    353\u001B[0m \u001B[43m    \u001B[49m\u001B[43mallow_unreachable\u001B[49m\u001B[38;5;241;43m=\u001B[39;49m\u001B[38;5;28;43;01mTrue\u001B[39;49;00m\u001B[43m,\u001B[49m\n\u001B[0;32m    354\u001B[0m \u001B[43m    \u001B[49m\u001B[43maccumulate_grad\u001B[49m\u001B[38;5;241;43m=\u001B[39;49m\u001B[38;5;28;43;01mTrue\u001B[39;49;00m\u001B[43m,\u001B[49m\n\u001B[0;32m    355\u001B[0m \u001B[43m\u001B[49m\u001B[43m)\u001B[49m\n",
      "File \u001B[1;32mD:\\PycharmProjects\\AI4S\\.venv\\lib\\site-packages\\torch\\autograd\\graph.py:825\u001B[0m, in \u001B[0;36m_engine_run_backward\u001B[1;34m(t_outputs, *args, **kwargs)\u001B[0m\n\u001B[0;32m    823\u001B[0m     unregister_hooks \u001B[38;5;241m=\u001B[39m _register_logging_hooks_on_whole_graph(t_outputs)\n\u001B[0;32m    824\u001B[0m \u001B[38;5;28;01mtry\u001B[39;00m:\n\u001B[1;32m--> 825\u001B[0m     \u001B[38;5;28;01mreturn\u001B[39;00m Variable\u001B[38;5;241m.\u001B[39m_execution_engine\u001B[38;5;241m.\u001B[39mrun_backward(  \u001B[38;5;66;03m# Calls into the C++ engine to run the backward pass\u001B[39;00m\n\u001B[0;32m    826\u001B[0m         t_outputs, \u001B[38;5;241m*\u001B[39margs, \u001B[38;5;241m*\u001B[39m\u001B[38;5;241m*\u001B[39mkwargs\n\u001B[0;32m    827\u001B[0m     )  \u001B[38;5;66;03m# Calls into the C++ engine to run the backward pass\u001B[39;00m\n\u001B[0;32m    828\u001B[0m \u001B[38;5;28;01mfinally\u001B[39;00m:\n\u001B[0;32m    829\u001B[0m     \u001B[38;5;28;01mif\u001B[39;00m attach_logging_hooks:\n",
      "\u001B[1;31mKeyboardInterrupt\u001B[0m: "
     ]
    }
   ],
   "execution_count": 18
  },
  {
   "metadata": {
    "ExecuteTime": {
     "end_time": "2024-12-21T03:26:34.606903Z",
     "start_time": "2024-12-21T03:23:50.654976Z"
    }
   },
   "cell_type": "code",
   "source": [
    "# test model\n",
    "t_test = torch.linspace(0, t_end.item(), 200).reshape(-1, 1).requires_grad_(True)\n",
    "y_pred = net(t_test).detach().numpy()\n",
    "\n",
    "# calculate analytical result\n",
    "y_analytical = h - 0.5 * 9.8 * t_test.detach().numpy()**2\n",
    "\n",
    "# visualization\n",
    "plt.figure(figsize=(12, 8))\n",
    "plt.scatter(t_numpy, y_numpy, label='Training Data', alpha=0.5)\n",
    "plt.plot(t_test.detach().numpy(), y_pred, label='PINN Prediction', color='red')\n",
    "plt.plot(t_test.detach().numpy(), y_analytical, label='Analytical Solution', color='green', linestyle='--')\n",
    "plt.xlabel('Time (s)')\n",
    "plt.ylabel('Height (m)')\n",
    "plt.legend()\n",
    "plt.title(f'Free Fall Motion from {h}m: PINN vs Analytical Solution')\n",
    "plt.grid(True)\n",
    "plt.show()"
   ],
   "id": "6850353fd6ccfa5f",
   "outputs": [
    {
     "ename": "NameError",
     "evalue": "name 'torch' is not defined",
     "output_type": "error",
     "traceback": [
      "\u001B[1;31m---------------------------------------------------------------------------\u001B[0m",
      "\u001B[1;31mNameError\u001B[0m                                 Traceback (most recent call last)",
      "Cell \u001B[1;32mIn[1], line 2\u001B[0m\n\u001B[0;32m      1\u001B[0m \u001B[38;5;66;03m# test model\u001B[39;00m\n\u001B[1;32m----> 2\u001B[0m t_test \u001B[38;5;241m=\u001B[39m \u001B[43mtorch\u001B[49m\u001B[38;5;241m.\u001B[39mlinspace(\u001B[38;5;241m0\u001B[39m, t_end\u001B[38;5;241m.\u001B[39mitem(), \u001B[38;5;241m200\u001B[39m)\u001B[38;5;241m.\u001B[39mreshape(\u001B[38;5;241m-\u001B[39m\u001B[38;5;241m1\u001B[39m, \u001B[38;5;241m1\u001B[39m)\u001B[38;5;241m.\u001B[39mrequires_grad_(\u001B[38;5;28;01mTrue\u001B[39;00m)\n\u001B[0;32m      3\u001B[0m y_pred \u001B[38;5;241m=\u001B[39m net(t_test)\u001B[38;5;241m.\u001B[39mdetach()\u001B[38;5;241m.\u001B[39mnumpy()\n\u001B[0;32m      5\u001B[0m \u001B[38;5;66;03m# calculate analytical result\u001B[39;00m\n",
      "\u001B[1;31mNameError\u001B[0m: name 'torch' is not defined"
     ]
    }
   ],
   "execution_count": 1
  }
 ],
 "metadata": {
  "kernelspec": {
   "display_name": "Python 3",
   "language": "python",
   "name": "python3"
  },
  "language_info": {
   "codemirror_mode": {
    "name": "ipython",
    "version": 2
   },
   "file_extension": ".py",
   "mimetype": "text/x-python",
   "name": "python",
   "nbconvert_exporter": "python",
   "pygments_lexer": "ipython2",
   "version": "2.7.6"
  }
 },
 "nbformat": 4,
 "nbformat_minor": 5
}
