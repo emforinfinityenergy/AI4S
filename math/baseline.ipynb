{
 "cells": [
  {
   "id": "d1d0fec8-d333-401a-9803-cc1ed8140d68",
   "cell_type": "code",
   "source": "import numpy as np\nfrom matplotlib import pyplot as plt\nimport pandas as pd\nimport torch\nimport torch.nn as nn\nimport torch.optim as optim\nimport os\n\n# 定义回归模型（需要选手自己设计填写）\n# Define the regression model (participants need to design and fill it in themselves)\n\n# 进行回归的函数（需要选手自己设计填写）\n# Function for parameter solving (participants need to design and fill it in themselves)\ndef pqregression(data):\n    p_value = 1\n    q_value = 1\n    return p_value, q_value",
   "metadata": {},
   "outputs": [
    {
     "id": "fd8b0043-4f3d769f891e0658f3d1c1e9_111_45",
     "output_type": "execute_reply",
     "data": {
      "status": "ok",
      "execution_count": 3,
      "user_expressions": {},
      "payload": []
     },
     "meta": {
      "started": "2024-11-04T06:54:06.766102Z",
      "dependencies_met": true,
      "engine": "4a145547-d92f-4542-a566-76397d461956",
      "status": "ok"
     },
     "parent_header": {
      "msg_id": "fd8b0043-4f3d769f891e0658f3d1c1e9_111_45",
      "msg_type": "execute_reply",
      "username": "username",
      "session": "fd8b0043-4f3d769f891e0658f3d1c1e9",
      "date": "2024-11-04T06:54:06.769297Z",
      "version": "5.3"
     }
    }
   ],
   "execution_count": 3
  },
  {
   "id": "bfb17249-8b3e-4ecd-9ebd-a54ba62b2955",
   "cell_type": "code",
   "source": "if __name__ == '__main__':\n    #-------------读取训练集,训练集地址已经设定好，下面这段不用修改------------------#\n    #-----Read the training set, the address of the training set has been set, and the following section does not need to be modified-------#\n    train_path = \"/bohr/train-btk3/v1/a_seq_train.csv\" \n    data_train = pd.read_csv(train_path)  \n\n    #-------------读取测试集---------------#“DATA_PATH”是测试集加密后的环境变量，按照如下方式可以在提交后，系统评分时访问测试集，但是选手无法直接下载\n    #----Read the testing set, “DATA_PATH” is an environment variable for the encrypted test set. After submission, you can access the test set for system scoring in the following manner, but the contestant cannot download it directly.-----#\n    if os.environ.get('DATA_PATH'):\n        DATA_PATH = os.environ.get(\"DATA_PATH\") + \"/\"  \n    else:\n        print(\"Baseline运行时，因为无法读取测试集，所以会有此条报错，属于正常现象\")  \n        print(\"When baseline is running, this error message will appear because the test set cannot be read, which is a normal phenomenon.\")\n        #Baseline运行时，因为无法读取测试集，所以会有此条报错，属于正常现象\n        #When baseline is running, this error message will appear because the test set cannot be read, which is a normal phenomenon.\n    testA_path = DATA_PATH + \"a_seq_testA.csv\"  #读取测试集A, read testing setA\n    data_testA = pd.read_csv(testA_path) \n    testB_path = DATA_PATH + \"a_seq_testB.csv\" #读取测试集B,read teseting setB\n    data_testB = pd.read_csv(testB_path) \n    #--------------开始进行模型回归--Start Parameter Solving-------------#\n    p_train, q_train = pqregression(data_train)\n    p_testA, q_testA = pqregression(data_testA)\n    p_testB, q_testB = pqregression(data_testB)\n    p = [p_train,p_testA,p_testB]\n    q = [q_train,q_testA,q_testB]\n    #-----保存参数p，q到CSV文件到submission.csv, to save the parameters p and q to the .csv file-----#     \n    df_params = pd.DataFrame({'p': p, 'q': q})\n    print(df_params)\n    csv_file_path = 'submission.csv'\n    df_params.to_csv(csv_file_path, index=False)",
   "metadata": {},
   "execution_count": null,
   "outputs": []
  }
 ],
 "metadata": {},
 "nbformat": 4,
 "nbformat_minor": 5
}
